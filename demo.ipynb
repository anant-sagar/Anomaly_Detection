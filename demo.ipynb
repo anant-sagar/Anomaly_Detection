{
 "cells": [
  {
   "cell_type": "code",
   "execution_count": 1,
   "metadata": {},
   "outputs": [
    {
     "name": "stdout",
     "output_type": "stream",
     "text": [
      "[1, 'abc', 2, 'abc', 3, 'abc']\n"
     ]
    }
   ],
   "source": [
    "#CONVERT TUPLE INTO LIST BY ADDING THE GIVEN STRING AFTER EVERY ELEMENT\r\n",
    "tup=(1,2,3)\r\n",
    "element=\"abc\"\r\n",
    "lis=[]\r\n",
    "for i in range(len(tup)):\r\n",
    "    lis.append(tup[i])\r\n",
    "    lis.append(element)\r\n",
    "print(lis)"
   ]
  },
  {
   "cell_type": "code",
   "execution_count": 2,
   "metadata": {},
   "outputs": [
    {
     "name": "stdout",
     "output_type": "stream",
     "text": [
      "(3, 1, 7) (0, 2, 0)\n"
     ]
    }
   ],
   "source": [
    "#tuple xor operation , and operation\r\n",
    "a=(1,2,3)\r\n",
    "b=(2,3,4)\r\n",
    "xor_result = tuple(first ^ second for first,second in zip(a,b))\r\n",
    "and_result = tuple(first & second for first,second in zip(a,b))\r\n",
    "\r\n",
    "print(xor_result,and_result)"
   ]
  },
  {
   "cell_type": "code",
   "execution_count": 4,
   "metadata": {},
   "outputs": [
    {
     "name": "stdout",
     "output_type": "stream",
     "text": [
      "sum : 600\n"
     ]
    }
   ],
   "source": [
    "def sum(mydict):\r\n",
    "      \r\n",
    "    sum = 0\r\n",
    "    for i in mydict:\r\n",
    "        sum = sum + mydict[i]\r\n",
    "      \r\n",
    "    return sum\r\n",
    "  \r\n",
    "dict = {'a': 100, 'b':200, 'c':300}\r\n",
    "print(\"sum :\", sum(dict))"
   ]
  },
  {
   "cell_type": "code",
   "execution_count": 5,
   "metadata": {},
   "outputs": [
    {
     "name": "stdout",
     "output_type": "stream",
     "text": [
      "3\n"
     ]
    }
   ],
   "source": [
    "dict = {'a': 100, 'b':200, 'c':300}\r\n",
    "a=len(dict)\r\n",
    "print(a)"
   ]
  },
  {
   "cell_type": "code",
   "execution_count": 6,
   "metadata": {},
   "outputs": [
    {
     "name": "stdout",
     "output_type": "stream",
     "text": [
      "{'a': 1, 'b': 2, 'c': 3}\n"
     ]
    }
   ],
   "source": [
    "def convert(lst):\r\n",
    "    result = {lst[i]: lst[i + 1] for i in range(0, len(lst), 2)}\r\n",
    "    return result\r\n",
    "         \r\n",
    "lst = ['a', 1, 'b', 2, 'c', 3]\r\n",
    "print(convert(lst))"
   ]
  },
  {
   "cell_type": "code",
   "execution_count": 3,
   "metadata": {},
   "outputs": [
    {
     "name": "stdout",
     "output_type": "stream",
     "text": [
      "1\n",
      "2\n",
      "3\n",
      "4\n",
      "5\n",
      "6\n",
      "7\n"
     ]
    }
   ],
   "source": [
    "def union(arr1, arr2, len1, len2): \r\n",
    "    i,j = 0,0\r\n",
    "    while i < len1 and j < len2: \r\n",
    "        if arr1[i] < arr2[j]: \r\n",
    "            print(arr1[i]) \r\n",
    "            i += 1\r\n",
    "        elif arr2[j] < arr1[i]: \r\n",
    "            print(arr2[j]) \r\n",
    "            j+= 1\r\n",
    "        else: \r\n",
    "            print(arr2[j]) \r\n",
    "            j += 1\r\n",
    "            i += 1\r\n",
    "  \r\n",
    "    # Print remaining elements of the larger array \r\n",
    "    while i < len1: \r\n",
    "        print(arr1[i]) \r\n",
    "        i += 1\r\n",
    "  \r\n",
    "    while j < len2: \r\n",
    "        print(arr2[j]) \r\n",
    "        j += 1\r\n",
    "  \r\n",
    "arr1 = [1, 2, 4, 5, 6] \r\n",
    "arr2 = [2, 3, 5, 7] \r\n",
    "len1 = len(arr1) \r\n",
    "len2 = len(arr2) \r\n",
    "union(arr1, arr2, len1, len2)"
   ]
  },
  {
   "cell_type": "code",
   "execution_count": null,
   "metadata": {},
   "outputs": [],
   "source": []
  }
 ],
 "metadata": {
  "kernelspec": {
   "display_name": "Python 3.8.0 64-bit",
   "name": "python380jvsc74a57bd0004de6046f1b3d314f33fdb43a2dc798b2646e5600efd8df5066c8b63a00ff6d"
  },
  "language_info": {
   "codemirror_mode": {
    "name": "ipython",
    "version": 3
   },
   "file_extension": ".py",
   "mimetype": "text/x-python",
   "name": "python",
   "nbconvert_exporter": "python",
   "pygments_lexer": "ipython3",
   "version": "3.8.0"
  },
  "metadata": {
   "interpreter": {
    "hash": "004de6046f1b3d314f33fdb43a2dc798b2646e5600efd8df5066c8b63a00ff6d"
   }
  },
  "orig_nbformat": 2
 },
 "nbformat": 4,
 "nbformat_minor": 2
}